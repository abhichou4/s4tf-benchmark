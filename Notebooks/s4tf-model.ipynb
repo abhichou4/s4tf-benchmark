{
 "cells": [
  {
   "cell_type": "code",
   "execution_count": 1,
   "metadata": {},
   "outputs": [
    {
     "name": "stdout",
     "output_type": "stream",
     "text": [
      "Installing packages:\n",
      "\t.package(path: \"/home/cheems/Workspace/s4tf-benchmark/Notebooks/../Datasets\")\n",
      "\t\tDatasets\n",
      "\t.package(path: \"/home/cheems/Workspace/s4tf-benchmark/Notebooks/../Models\")\n",
      "\t\tModels\n",
      "With SwiftPM flags: []\n",
      "Working in: /tmp/tmp3utze1b4/swift-install\n",
      "[1/3] Compiling jupyterInstalledPackages jupyterInstalledPackages.swift\n",
      "[2/4] Merging module jupyterInstalledPackages\n",
      "Initializing Swift...\n",
      "Installation complete!\n",
      "2021-01-03 00:20:54.929289: I tensorflow/stream_executor/platform/default/dso_loader.cc:48] Successfully opened dynamic library libcudart.so.10.1\n"
     ]
    }
   ],
   "source": [
    "%install-location $cwd/swift-install\n",
    "%install '.package(path: \"$cwd/../Datasets\")' Datasets\n",
    "%install '.package(path: \"$cwd/../Models\")' Models"
   ]
  },
  {
   "cell_type": "code",
   "execution_count": 2,
   "metadata": {},
   "outputs": [],
   "source": [
    "import TensorFlow \n",
    "\n",
    "import Datasets\n",
    "import Models"
   ]
  },
  {
   "cell_type": "markdown",
   "metadata": {},
   "source": [
    "## Download MNIST dataset"
   ]
  },
  {
   "cell_type": "code",
   "execution_count": 3,
   "metadata": {},
   "outputs": [
    {
     "name": "stdout",
     "output_type": "stream",
     "text": [
      "/home/cheems/Workspace/s4tf-benchmark/data/mnist/train-images-idx3-ubyte already downloaded.\r\n",
      "/home/cheems/Workspace/s4tf-benchmark/data/mnist/train-labels-idx1-ubyte already downloaded.\r\n",
      "/home/cheems/Workspace/s4tf-benchmark/data/mnist/t10k-images-idx3-ubyte already downloaded.\r\n",
      "/home/cheems/Workspace/s4tf-benchmark/data/mnist/t10k-labels-idx1-ubyte already downloaded.\r\n"
     ]
    }
   ],
   "source": [
    "let remoteBaseDirectory = \"https://storage.googleapis.com/cvdf-datasets/mnist/\"\n",
    "let localBaseDirectory = \"../data/mnist/\"\n",
    "\n",
    "let filenames = [\n",
    "    \"train-images-idx3-ubyte\",\n",
    "    \"train-labels-idx1-ubyte\",\n",
    "    \"t10k-images-idx3-ubyte\",\n",
    "    \"t10k-labels-idx1-ubyte\"\n",
    "]\n",
    "\n",
    "for filename in filenames {\n",
    "    downloadDataset(\n",
    "        file: filename,\n",
    "        from: remoteBaseDirectory,\n",
    "        to: localBaseDirectory)\n",
    "}"
   ]
  },
  {
   "cell_type": "markdown",
   "metadata": {},
   "source": [
    "## Load dataset as TrainingEpochs"
   ]
  },
  {
   "cell_type": "code",
   "execution_count": 4,
   "metadata": {},
   "outputs": [
    {
     "name": "stdout",
     "output_type": "stream",
     "text": [
      "2021-01-03 00:20:58.476179: I tensorflow/core/platform/cpu_feature_guard.cc:142] This TensorFlow binary is optimized with oneAPI Deep Neural Network Library (oneDNN)to use the following CPU instructions in performance-critical operations:  SSE3 SSE4.1 SSE4.2 AVX AVX2 FMA\n",
      "To enable them in other operations, rebuild TensorFlow with the appropriate compiler flags.\n",
      "2021-01-03 00:20:58.511263: I tensorflow/core/platform/profile_utils/cpu_utils.cc:104] CPU Frequency: 3593210000 Hz\n",
      "2021-01-03 00:20:58.512226: I tensorflow/compiler/xla/service/service.cc:168] XLA service 0x3241d80 initialized for platform Host (this does not guarantee that XLA will be used). Devices:\n",
      "2021-01-03 00:20:58.512250: I tensorflow/compiler/xla/service/service.cc:176]   StreamExecutor device (0): Host, Default Version\n",
      "2021-01-03 00:20:58.536427: I tensorflow/stream_executor/platform/default/dso_loader.cc:48] Successfully opened dynamic library libcuda.so.1\n",
      "2021-01-03 00:20:58.540839: I tensorflow/stream_executor/cuda/cuda_gpu_executor.cc:982] successful NUMA node read from SysFS had negative value (-1), but there must be at least one NUMA node, so returning NUMA node zero\n",
      "2021-01-03 00:20:58.541183: I tensorflow/core/common_runtime/gpu/gpu_device.cc:1716] Found device 0 with properties: \n",
      "pciBusID: 0000:09:00.0 name: GeForce GT 710 computeCapability: 3.5\n",
      "coreClock: 0.954GHz coreCount: 1 deviceMemorySize: 1.95GiB deviceMemoryBandwidth: 37.33GiB/s\n",
      "2021-01-03 00:20:58.541206: I tensorflow/stream_executor/platform/default/dso_loader.cc:48] Successfully opened dynamic library libcudart.so.10.1\n",
      "2021-01-03 00:20:58.541343: W tensorflow/stream_executor/platform/default/dso_loader.cc:59] Could not load dynamic library 'libcublas.so.10'; dlerror: libcublas.so.10: cannot open shared object file: No such file or directory; LD_LIBRARY_PATH: /home/cheems/Downloads/swift-tensorflow-RELEASE-0.12-cuda10.1-cudnn7-ubuntu18.04/usr/lib/swift/linux\n",
      "2021-01-03 00:20:58.760255: I tensorflow/stream_executor/platform/default/dso_loader.cc:48] Successfully opened dynamic library libcufft.so.10\n",
      "2021-01-03 00:20:58.848742: I tensorflow/stream_executor/platform/default/dso_loader.cc:48] Successfully opened dynamic library libcurand.so.10\n",
      "2021-01-03 00:20:59.131712: I tensorflow/stream_executor/platform/default/dso_loader.cc:48] Successfully opened dynamic library libcusolver.so.10\n",
      "2021-01-03 00:20:59.152727: I tensorflow/stream_executor/platform/default/dso_loader.cc:48] Successfully opened dynamic library libcusparse.so.10\n",
      "2021-01-03 00:20:59.811575: I tensorflow/stream_executor/platform/default/dso_loader.cc:48] Successfully opened dynamic library libcudnn.so.7\n",
      "2021-01-03 00:20:59.811604: W tensorflow/core/common_runtime/gpu/gpu_device.cc:1753] Cannot dlopen some GPU libraries. Please make sure the missing libraries mentioned above are installed properly if you would like to use GPU. Follow the guide at https://www.tensorflow.org/install/gpu for how to download and setup the required libraries for your platform.\n",
      "Skipping registering GPU devices...\n",
      "2021-01-03 00:20:59.836405: I tensorflow/core/common_runtime/gpu/gpu_device.cc:1257] Device interconnect StreamExecutor with strength 1 edge matrix:\n",
      "2021-01-03 00:20:59.836442: I tensorflow/core/common_runtime/gpu/gpu_device.cc:1263]      0 \n",
      "2021-01-03 00:20:59.836452: I tensorflow/core/common_runtime/gpu/gpu_device.cc:1276] 0:   N \n",
      "2021-01-03 00:20:59.838424: I tensorflow/stream_executor/cuda/cuda_gpu_executor.cc:982] successful NUMA node read from SysFS had negative value (-1), but there must be at least one NUMA node, so returning NUMA node zero\n",
      "2021-01-03 00:20:59.839161: I tensorflow/compiler/xla/service/service.cc:168] XLA service 0x31be630 initialized for platform CUDA (this does not guarantee that XLA will be used). Devices:\n",
      "2021-01-03 00:20:59.839178: I tensorflow/compiler/xla/service/service.cc:176]   StreamExecutor device (0): GeForce GT 710, Compute Capability 3.5\n"
     ]
    }
   ],
   "source": [
    "let trainingImages: Tensor<Float> = loadMNISTDataset(from: localBaseDirectory + filenames[0], \n",
    "                                                     isTraining: true, isLabel: false, toFlatten: true) / 255.0\n",
    "let trainingLabels: Tensor<Int32> = loadMNISTDataset(from: localBaseDirectory + filenames[1],\n",
    "                                                     isTraining: true, isLabel: true, toFlatten: true)"
   ]
  },
  {
   "cell_type": "code",
   "execution_count": 5,
   "metadata": {},
   "outputs": [],
   "source": [
    "let batchSize = 32\n",
    "\n",
    "\n",
    "public struct MNISTBatch {\n",
    "    let images: Tensor<Float>\n",
    "    let labels: Tensor<Int32>\n",
    "}\n",
    "\n",
    "extension MNISTBatch : Collatable {\n",
    "    public init<BatchSamples: Collection>(collating samples: BatchSamples) \n",
    "        where BatchSamples.Element == Self {\n",
    "            images = Tensor<Float>(stacking: samples.map{$0.images})\n",
    "            labels = Tensor<Int32>(stacking: samples.map{$0.labels})\n",
    "        }\n",
    "}\n",
    "\n",
    "let trainingDataset: [MNISTBatch] = zip(trainingImages.unstacked(), trainingLabels.unstacked()).map{MNISTBatch(images: $0.0, labels: $0.1)}\n",
    "let trainingEpochs: TrainingEpochs = TrainingEpochs(samples: trainingDataset, batchSize: batchSize)"
   ]
  },
  {
   "cell_type": "code",
   "execution_count": 6,
   "metadata": {},
   "outputs": [
    {
     "name": "stdout",
     "output_type": "stream",
     "text": [
      "First batch of features: [[        0.0,         0.0,         0.0, ...,         0.0,         0.0,         0.0],\r\n",
      " [        0.0,         0.0,         0.0, ...,         0.0,         0.0,         0.0],\r\n",
      " [        0.0,         0.0,         0.0, ...,         0.0,         0.0,         0.0],\r\n",
      " ...,\r\n",
      " [        0.0,         0.0,         0.0, ...,         0.0,         0.0,         0.0],\r\n",
      " [        0.0,         0.0,         0.0, ...,         0.0,         0.0,         0.0],\r\n",
      " [        0.0,         0.0,         0.0, ...,         0.0,         0.0,         0.0]]\r\n",
      "firstTrainFeatures.shape: [32, 784]\r\n",
      "First batch of labels: [7, 4, 8, 6, 6, 1, 8, 5, 5, 5, 2, 3, 4, 6, 4, 7, 5, 2, 5, 7, 1, 2, 5, 0, 5, 5, 6, 9, 7, 0, 2, 3]\r\n",
      "firstTrainLabels.shape: [32]\r\n"
     ]
    }
   ],
   "source": [
    "let firstEpoch = trainingEpochs.next()!\n",
    "let firstTrainBatch = firstEpoch.first!.collated\n",
    "let firstBatchImages = firstTrainBatch.images\n",
    "let firstBatchLabels = firstTrainBatch.labels\n",
    "\n",
    "print(\"First batch of features: \\(firstBatchImages)\")\n",
    "print(\"firstTrainFeatures.shape: \\(firstBatchImages.shape)\")\n",
    "print(\"First batch of labels: \\(firstBatchLabels)\")\n",
    "print(\"firstTrainLabels.shape: \\(firstBatchLabels.shape)\")"
   ]
  },
  {
   "cell_type": "markdown",
   "metadata": {},
   "source": [
    "## Define Model and Optimizer"
   ]
  },
  {
   "cell_type": "code",
   "execution_count": 7,
   "metadata": {},
   "outputs": [],
   "source": [
    "var model = DenseModel()\n",
    "let optimizer = SGD(for: model, learningRate: 0.01)"
   ]
  },
  {
   "cell_type": "markdown",
   "metadata": {},
   "source": [
    "## Training Loop"
   ]
  },
  {
   "cell_type": "code",
   "execution_count": 8,
   "metadata": {},
   "outputs": [],
   "source": [
    "func accuracy (predictions logits: Tensor<Float>, truths batchLabels: Tensor<Int32>) -> Float {\n",
    "    return Tensor<Float>(logits.argmax(squeezingAxis: 1) .== batchLabels).mean().scalarized()\n",
    "}"
   ]
  },
  {
   "cell_type": "code",
   "execution_count": 9,
   "metadata": {},
   "outputs": [
    {
     "name": "stdout",
     "output_type": "stream",
     "text": [
      "Epoch 0: Loss: 1.0215597, Accuracy: 0.6866\n",
      "Epoch 50: Loss: 0.17279756, Accuracy: 0.9647667\n",
      "Epoch 100: Loss: 0.15253778, Accuracy: 0.97083336\n",
      "Epoch 150: Loss: 0.14034134, Accuracy: 0.97405\n",
      "Epoch 200: Loss: 0.13151322, Accuracy: 0.9759\n",
      "Epoch 250: Loss: 0.12564613, Accuracy: 0.9769667\n",
      "Epoch 300: Loss: 0.120738275, Accuracy: 0.97851664\n",
      "Epoch 350: Loss: 0.11700909, Accuracy: 0.9792333\n",
      "Epoch 400: Loss: 0.11517548, Accuracy: 0.9799\n",
      "Epoch 450: Loss: 0.11192699, Accuracy: 0.9808\n"
     ]
    }
   ],
   "source": [
    "let epochCount = 500\n",
    "var trainAccuracyResults = [Float]()\n",
    "var trainLossResults = [Float]()\n",
    "\n",
    "for (epochIndex, epoch) in trainingEpochs.prefix(epochCount).enumerated() {\n",
    "    var epochLoss: Float = 0\n",
    "    var epochAccuracy: Float = 0\n",
    "    var batchCount: Int = 0\n",
    "    for batchSamples in epoch {\n",
    "        let batch = batchSamples.collated\n",
    "        let (loss, grad) = valueWithGradient(at: model) { (model: DenseModel) -> Tensor<Float> in\n",
    "            let logits = model(batch.images)\n",
    "            return softmaxCrossEntropy(logits: logits, labels: batch.labels)\n",
    "        }\n",
    "        optimizer.update(&model, along: grad)\n",
    "\n",
    "        let logits = model(batch.images)\n",
    "        epochAccuracy += accuracy(predictions: logits, truths: batch.labels)\n",
    "        epochLoss += loss.scalarized()\n",
    "        batchCount += 1\n",
    "    }\n",
    "    epochAccuracy /= Float(batchCount)\n",
    "    epochLoss /= Float(batchCount)\n",
    "    trainAccuracyResults.append(epochAccuracy)\n",
    "    trainLossResults.append(epochLoss)\n",
    "    if epochIndex % 50 == 0 {\n",
    "        print(\"Epoch \\(epochIndex): Loss: \\(epochLoss), Accuracy: \\(epochAccuracy)\")\n",
    "    }\n",
    "}"
   ]
  },
  {
   "cell_type": "markdown",
   "metadata": {},
   "source": [
    "## Visualize Loss and Accuracy"
   ]
  },
  {
   "cell_type": "code",
   "execution_count": 11,
   "metadata": {},
   "outputs": [
    {
     "name": "stdout",
     "output_type": "stream",
     "text": [
      "('inline', 'module://ipykernel.pylab.backend_inline')\r\n"
     ]
    }
   ],
   "source": [
    "import PythonKit\n",
    "\n",
    "%include \"EnableIPythonDisplay.swift\"\n",
    "print(IPythonDisplay.shell.enable_matplotlib(\"inline\"))"
   ]
  },
  {
   "cell_type": "code",
   "execution_count": 12,
   "metadata": {},
   "outputs": [],
   "source": [
    "let plt = Python.import(\"matplotlib.pyplot\")"
   ]
  },
  {
   "cell_type": "code",
   "execution_count": 13,
   "metadata": {},
   "outputs": [
    {
     "data": {
      "image/png": "[encoded data removed]",
      "text/plain": [
       "<Figure size 864x576 with 2 Axes>"
      ]
     },
     "metadata": {
      "needs_background": "light"
     },
     "output_type": "display_data"
    },
    {
     "data": {
      "text/plain": [
       "Use `print()` to show values.\n"
      ]
     },
     "execution_count": 13,
     "metadata": {},
     "output_type": "execute_result"
    }
   ],
   "source": [
    "plt.figure(figsize: [12, 8])\n",
    "\n",
    "let accuracyAxes = plt.subplot(2, 1, 1)\n",
    "accuracyAxes.set_ylabel(\"Accuracy\")\n",
    "accuracyAxes.plot(trainAccuracyResults)\n",
    "\n",
    "let lossAxes = plt.subplot(2, 1, 2)\n",
    "lossAxes.set_ylabel(\"Loss\")\n",
    "lossAxes.set_xlabel(\"Epoch\")\n",
    "lossAxes.plot(trainLossResults)\n",
    "\n",
    "plt.show()"
   ]
  }
 ],
 "metadata": {
  "kernelspec": {
   "display_name": "Swift",
   "language": "swift",
   "name": "swift"
  },
  "language_info": {
   "file_extension": ".swift",
   "mimetype": "text/x-swift",
   "name": "swift",
   "version": ""
  }
 },
 "nbformat": 4,
 "nbformat_minor": 4
}
